{
 "cells": [
  {
   "cell_type": "markdown",
   "id": "b4c5a29c",
   "metadata": {},
   "source": [
    " # List of data bases\n",
    "### Here everybody can detail the databases that they want to study\n",
    "Gabriela Narvaez\n",
    "\n",
    "1.\n",
    "a. Database: Survey to health establishments that have neonatal and obstetric functions\n",
    "b. Information: Data about the infraestructure, performance, capabilities of the staff, among others, of the high, medium and low levels of health establisments that have neonatal and obstetric functions\n",
    "c. Interest: I would like to find the key elements that diferenciate the performance in each level of attention. \n",
    "\n",
    "2.\n",
    "a. Database: Political Database of the Americas\n",
    "b. Information: Data of political institutions and processes, national constitutions, powers of the State, elections, political-constitutional studies and other topics linked to the strengthening of democracy.\n",
    "c. Interest: I Would like to evaluate if the type of system of  balance of the powers of State have any impact on the strenghthening of democracy in Latin America\n",
    " \n",
    "3.\n",
    "a. Database: Participatory Budget-BID\n",
    "b. Information: Data of the level of execution of participatory budgets in South America\n",
    "c. Interest: I would like to see if there is a correlation between participatory budget execution and political crisis and how this differ from regular budget execution in the same context."
   ]
  },
  {
   "cell_type": "markdown",
   "id": "8b8f3a3a",
   "metadata": {},
   "source": [
    "Hans Hurtado"
   ]
  },
  {
   "cell_type": "markdown",
   "id": "16c08f0b",
   "metadata": {},
   "source": [
    "a. Database: National Open Data Platform\n",
    "b. Information: Data of the students from public universities for the years 2020, 2021, 2022 and 2023\n",
    "C. Interest: I would like to analyze the information on dropouts in public universities in Peru."
   ]
  },
  {
   "cell_type": "code",
   "execution_count": null,
   "id": "b3028235",
   "metadata": {},
   "outputs": [],
   "source": []
  },
  {
   "cell_type": "code",
   "execution_count": null,
   "id": "50999173",
   "metadata": {},
   "outputs": [],
   "source": []
  }
 ],
 "metadata": {
  "kernelspec": {
   "display_name": "Python 3 (ipykernel)",
   "language": "python",
   "name": "python3"
  },
  "language_info": {
   "codemirror_mode": {
    "name": "ipython",
    "version": 3
   },
   "file_extension": ".py",
   "mimetype": "text/x-python",
   "name": "python",
   "nbconvert_exporter": "python",
   "pygments_lexer": "ipython3",
   "version": "3.11.5"
  }
 },
 "nbformat": 4,
 "nbformat_minor": 5
}
"Valeria Reyes\n",
